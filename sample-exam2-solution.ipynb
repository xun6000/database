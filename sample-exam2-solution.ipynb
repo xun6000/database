{
 "cells": [
  {
   "cell_type": "markdown",
   "metadata": {
    "deletable": true,
    "editable": true
   },
   "source": [
    "# Exam 2 (100 points total)\n",
    "\n",
    "As described in the course's Honor Code policy, you may use your notes, and anything provided as part of this course.  You may use your computed to access this allowed information, to use tools to answer these questions (i.e., Jupyter, word processing software, drawing software, and browser to access allowed information).  You may not collaborate with anyone else, and you may not access any websites not associated with the course, except for web-based drawing programs.\n",
    "\n",
    "Complete and submit this notebook.  In any problem asking for a query, you may decompose the problem into a simpler query that uses views or temporary tables."
   ]
  },
  {
   "cell_type": "code",
   "execution_count": 1,
   "metadata": {
    "collapsed": false,
    "deletable": true,
    "editable": true
   },
   "outputs": [
    {
     "data": {
      "text/plain": [
       "u'Connected: None@'"
      ]
     },
     "execution_count": 1,
     "metadata": {},
     "output_type": "execute_result"
    }
   ],
   "source": [
    "%load_ext sql\n",
    "%sql sqlite:///"
   ]
  },
  {
   "cell_type": "markdown",
   "metadata": {
    "deletable": true,
    "editable": true
   },
   "source": [
    "## Problem 1 (20 points total)"
   ]
  },
  {
   "cell_type": "markdown",
   "metadata": {
    "deletable": true,
    "editable": true
   },
   "source": [
    "### Part a (10 points)\n",
    "\n",
    "Give one advantage of normalizing data."
   ]
  },
  {
   "cell_type": "markdown",
   "metadata": {
    "deletable": true,
    "editable": true
   },
   "source": [
    "* It reduces data redundancy, thus reducing the various kinds of data anomalies.\n",
    "* It is a way of reducing the costs of checking for and maintaining data consistency.\n",
    "* It eliminates redundant data, possibly reducing the amount of storage necessary.\n",
    "* It eliminates redundant data, possibly reducing the amount of data per table, thus any query on just that table will be faster.\n",
    "* If breaks tables into smaller relations.  When the data from only one relation is needed, it should be faster because there is less data to read and use."
   ]
  },
  {
   "cell_type": "markdown",
   "metadata": {
    "deletable": true,
    "editable": true
   },
   "source": [
    "### Part b (10 points)\n",
    "\n",
    "Give two reasons why normalizing data can make queries slower.  Or equivalently, why denormalizing data can make queries faster."
   ]
  },
  {
   "cell_type": "markdown",
   "metadata": {
    "deletable": true,
    "editable": true
   },
   "source": [
    "* Data split into separate tables by normalization needs to be joined, and joining is expensive, so accessing data is slower than if it were in a single denormalized table.\n",
    "* Data split into separate tables by normalization needs to be joined, and the resulting joined table isn't indexed, so accessing data is slower than if it were in a single denormalized table with an appropriate index.\n",
    "* Data in denormalized tables has better locality because each single table is typically stored contiguously.\n",
    "* Denormalized tables can contain pre-computed derived values so that these values don't need to be computed in queries."
   ]
  },
  {
   "cell_type": "markdown",
   "metadata": {
    "deletable": true,
    "editable": true
   },
   "source": [
    "## Problem 2 (60 points total)"
   ]
  },
  {
   "cell_type": "markdown",
   "metadata": {
    "deletable": true,
    "editable": true
   },
   "source": [
    "Let's first define a couple tables and some sample data.  We have pilots, who can fly various kinds of airplanes, and we have a hangar containing some airplanes.  Our pilots might be able to fly airplanes that are not currently available in the hangar, so we do *not* have a foreign key relationship between the tables."
   ]
  },
  {
   "cell_type": "code",
   "execution_count": 2,
   "metadata": {
    "collapsed": false,
    "deletable": true,
    "editable": true
   },
   "outputs": [
    {
     "name": "stdout",
     "output_type": "stream",
     "text": [
      "Done.\n",
      "Done.\n",
      "Done.\n",
      "Done.\n",
      "1 rows affected.\n",
      "1 rows affected.\n",
      "1 rows affected.\n",
      "1 rows affected.\n",
      "1 rows affected.\n",
      "1 rows affected.\n",
      "1 rows affected.\n",
      "1 rows affected.\n",
      "1 rows affected.\n",
      "1 rows affected.\n",
      "1 rows affected.\n",
      "1 rows affected.\n",
      "1 rows affected.\n",
      "1 rows affected.\n",
      "1 rows affected.\n",
      "1 rows affected.\n"
     ]
    },
    {
     "data": {
      "text/plain": [
       "[]"
      ]
     },
     "execution_count": 2,
     "metadata": {},
     "output_type": "execute_result"
    }
   ],
   "source": [
    "%%sql\n",
    "\n",
    "DROP TABLE IF EXISTS PilotSkills;\n",
    "DROP TABLE IF EXISTS Hangar;\n",
    "\n",
    "CREATE TABLE Hangar (\n",
    "    plane_name CHAR(15) NOT NULL,\n",
    "    PRIMARY KEY (plane_name)\n",
    ");\n",
    "\n",
    "CREATE TABLE PilotSkills (\n",
    "    pilot_name CHAR(15) NOT NULL,\n",
    "    plane_name CHAR(15) NOT NULL,\n",
    "    PRIMARY KEY (pilot_name, plane_name)\n",
    ");\n",
    "\n",
    "INSERT INTO Hangar VALUES ('B-1 Bomber');\n",
    "INSERT INTO Hangar VALUES ('B-52 Bomber');\n",
    "INSERT INTO Hangar VALUES ('F-14 Fighter');\n",
    "\n",
    "INSERT INTO PilotSkills VALUES ('Celko',    'Piper Cub');\n",
    "INSERT INTO PilotSkills VALUES ('Higgins',  'B-52 Bomber');\n",
    "INSERT INTO PilotSkills VALUES ('Higgins',  'F-14 Fighter');\n",
    "INSERT INTO PilotSkills VALUES ('Higgins',  'Piper Cub');\n",
    "INSERT INTO PilotSkills VALUES ('Jones',    'B-52 Bomber');\n",
    "INSERT INTO PilotSkills VALUES ('Jones',    'F-14 Fighter');\n",
    "INSERT INTO PilotSkills VALUES ('Smith',    'B-1 Bomber');\n",
    "INSERT INTO PilotSkills VALUES ('Smith',    'B-52 Bomber');\n",
    "INSERT INTO PilotSkills VALUES ('Smith',    'F-14 Fighter');\n",
    "INSERT INTO PilotSkills VALUES ('Wilson',   'B-1 Bomber');\n",
    "INSERT INTO PilotSkills VALUES ('Wilson',   'B-52 Bomber');\n",
    "INSERT INTO PilotSkills VALUES ('Wilson',   'F-14 Fighter');\n",
    "INSERT INTO PilotSkills VALUES ('Wilson',   'F-17 Fighter');"
   ]
  },
  {
   "cell_type": "code",
   "execution_count": 24,
   "metadata": {
    "collapsed": false
   },
   "outputs": [
    {
     "name": "stdout",
     "output_type": "stream",
     "text": [
      "Done.\n"
     ]
    },
    {
     "data": {
      "text/html": [
       "<table>\n",
       "    <tr>\n",
       "        <th>pilot_name</th>\n",
       "        <th>ability</th>\n",
       "    </tr>\n",
       "    <tr>\n",
       "        <td>Celko</td>\n",
       "        <td>2</td>\n",
       "    </tr>\n",
       "    <tr>\n",
       "        <td>Higgins</td>\n",
       "        <td>1</td>\n",
       "    </tr>\n",
       "    <tr>\n",
       "        <td>Higgins</td>\n",
       "        <td>2</td>\n",
       "    </tr>\n",
       "    <tr>\n",
       "        <td>Higgins</td>\n",
       "        <td>2</td>\n",
       "    </tr>\n",
       "    <tr>\n",
       "        <td>Jones</td>\n",
       "        <td>1</td>\n",
       "    </tr>\n",
       "    <tr>\n",
       "        <td>Jones</td>\n",
       "        <td>2</td>\n",
       "    </tr>\n",
       "    <tr>\n",
       "        <td>Smith</td>\n",
       "        <td>2</td>\n",
       "    </tr>\n",
       "    <tr>\n",
       "        <td>Smith</td>\n",
       "        <td>1</td>\n",
       "    </tr>\n",
       "    <tr>\n",
       "        <td>Smith</td>\n",
       "        <td>2</td>\n",
       "    </tr>\n",
       "    <tr>\n",
       "        <td>Wilson</td>\n",
       "        <td>2</td>\n",
       "    </tr>\n",
       "    <tr>\n",
       "        <td>Wilson</td>\n",
       "        <td>1</td>\n",
       "    </tr>\n",
       "    <tr>\n",
       "        <td>Wilson</td>\n",
       "        <td>2</td>\n",
       "    </tr>\n",
       "    <tr>\n",
       "        <td>Wilson</td>\n",
       "        <td>2</td>\n",
       "    </tr>\n",
       "</table>"
      ],
      "text/plain": [
       "[(u'Celko', 2),\n",
       " (u'Higgins', 1),\n",
       " (u'Higgins', 2),\n",
       " (u'Higgins', 2),\n",
       " (u'Jones', 1),\n",
       " (u'Jones', 2),\n",
       " (u'Smith', 2),\n",
       " (u'Smith', 1),\n",
       " (u'Smith', 2),\n",
       " (u'Wilson', 2),\n",
       " (u'Wilson', 1),\n",
       " (u'Wilson', 2),\n",
       " (u'Wilson', 2)]"
      ]
     },
     "execution_count": 24,
     "metadata": {},
     "output_type": "execute_result"
    }
   ],
   "source": [
    "%%sql\n",
    "SELECT pilot_name,CASE WHEN plane_name = 'B-52 Bomber' THEN 1 ELSE 2 END AS ability \n",
    "FROM PilotSkills\n"
   ]
  },
  {
   "cell_type": "markdown",
   "metadata": {
    "deletable": true,
    "editable": true
   },
   "source": [
    "### Which pilots can fly all of the available airplanes?\n",
    "\n",
    "This is the question we want to ask.  While this question is simple and straight-forward, we'll see that it leaves some room for ambiguity.\n",
    "\n",
    "This is an example of what is sometimes termed *relational division* because it roughly the inverse of the cartesian product.  Here, PilotSkills &divide; Hangar &asymp; Answer.  "
   ]
  },
  {
   "cell_type": "markdown",
   "metadata": {
    "deletable": true,
    "editable": true
   },
   "source": [
    "### Part a (20 points)\n",
    "\n",
    "Write a query **using quantification** that answers the question.  With the given data, the resulting pilots should be Smith and Wilson.  Each of those pilots can fly the three kinds of airplanes in the hangar."
   ]
  },
  {
   "cell_type": "code",
   "execution_count": 27,
   "metadata": {
    "collapsed": false,
    "deletable": true,
    "editable": true
   },
   "outputs": [
    {
     "name": "stdout",
     "output_type": "stream",
     "text": [
      "Done.\n"
     ]
    },
    {
     "data": {
      "text/html": [
       "<table>\n",
       "    <tr>\n",
       "        <th>pilot_name</th>\n",
       "    </tr>\n",
       "    <tr>\n",
       "        <td>Smith</td>\n",
       "    </tr>\n",
       "    <tr>\n",
       "        <td>Wilson</td>\n",
       "    </tr>\n",
       "</table>"
      ],
      "text/plain": [
       "[(u'Smith',), (u'Wilson',)]"
      ]
     },
     "execution_count": 27,
     "metadata": {},
     "output_type": "execute_result"
    }
   ],
   "source": [
    "%%sql\n",
    "SELECT DISTINCT pilot_name\n",
    "FROM PilotSkills AS PS1\n",
    "WHERE NOT EXISTS\n",
    "      (SELECT *\n",
    "       FROM Hangar\n",
    "       WHERE NOT exists\n",
    "             (SELECT *\n",
    "              FROM PilotSkills AS PS2\n",
    "              WHERE (PS1.pilot_name = PS2.pilot_name) AND\n",
    "                    (PS2.plane_name = Hangar.plane_name)));\n"
   ]
  },
  {
   "cell_type": "code",
   "execution_count": 22,
   "metadata": {
    "collapsed": false
   },
   "outputs": [
    {
     "name": "stdout",
     "output_type": "stream",
     "text": [
      "Done.\n"
     ]
    },
    {
     "data": {
      "text/html": [
       "<table>\n",
       "    <tr>\n",
       "        <th>plane_name</th>\n",
       "    </tr>\n",
       "</table>"
      ],
      "text/plain": [
       "[]"
      ]
     },
     "execution_count": 22,
     "metadata": {},
     "output_type": "execute_result"
    }
   ],
   "source": [
    "%%sql\n",
    "SELECT *\n",
    "       FROM Hangar\n",
    "       WHERE not EXISTS\n",
    "             (SELECT *\n",
    "              FROM PilotSkills AS PS2\n",
    "              WHERE \n",
    "                    (PS2.plane_name = Hangar.plane_name));"
   ]
  },
  {
   "cell_type": "markdown",
   "metadata": {
    "deletable": true,
    "editable": true
   },
   "source": [
    "### Part b (20 points)\n",
    "\n",
    "Write a query **using joining, grouping, and aggregation** to answer the question.  Again, with the given data, the resulting pilots should be Smith and Wilson."
   ]
  },
  {
   "cell_type": "code",
   "execution_count": 32,
   "metadata": {
    "collapsed": false,
    "deletable": true,
    "editable": true
   },
   "outputs": [
    {
     "name": "stdout",
     "output_type": "stream",
     "text": [
      "Done.\n"
     ]
    },
    {
     "data": {
      "text/html": [
       "<table>\n",
       "    <tr>\n",
       "        <th>pilot_name</th>\n",
       "    </tr>\n",
       "    <tr>\n",
       "        <td>Higgins</td>\n",
       "    </tr>\n",
       "    <tr>\n",
       "        <td>Jones</td>\n",
       "    </tr>\n",
       "    <tr>\n",
       "        <td>Smith</td>\n",
       "    </tr>\n",
       "    <tr>\n",
       "        <td>Wilson</td>\n",
       "    </tr>\n",
       "</table>"
      ],
      "text/plain": [
       "[(u'Higgins',), (u'Jones',), (u'Smith',), (u'Wilson',)]"
      ]
     },
     "execution_count": 32,
     "metadata": {},
     "output_type": "execute_result"
    }
   ],
   "source": [
    "%%sql\n",
    "SELECT PS.pilot_name\n",
    "FROM PilotSkills AS PS\n",
    "INNER JOIN Hangar AS H ON PS.plane_name = H.plane_name\n",
    "GROUP BY PS.pilot_name\n",
    "HAVING COUNT(PS.plane_name) = (SELECT COUNT(plane_name) FROM Hangar);"
   ]
  },
  {
   "cell_type": "markdown",
   "metadata": {
    "deletable": true,
    "editable": true
   },
   "source": [
    "### Aside\n",
    "\n",
    "While **not a requirement for the previous parts**, the most straightforward answers to the previous two parts will slightly differ semantically.  Consider if we had no planes available.  You can try this by commenting out the Hangar data (remember:  add two dashes at the beginning of each line).\n",
    "\n",
    "The first query will likely result in all pilots.  After all, every one of the pilots is able to fly at least the zero available planes (in fact, so are you!).  Going back to the division analogy, this is like starting with all the pilots and planes, then dividing by zero planes and getting infinite (all) the pilots.\n",
    "\n",
    "The second query will likely result in zero pilots.  This doesn't really correspond to the division analogy."
   ]
  },
  {
   "cell_type": "markdown",
   "metadata": {
    "deletable": true,
    "editable": true
   },
   "source": [
    "### Part c (20 points)\n",
    "\n",
    "Write a query **using joining, grouping, and aggregation** to answer the question.\n",
    "\n",
    "However, this time, we want to return to our division analogy and have no \"remainder\".  I.e., we want only the pilots who are able to fly *exactly* the set of available planes.  With the given data, the resulting pilots should be only Smith.  After all, Wilson can fly more than just the available planes.\n",
    "\n",
    "As a hint, you'll want to use an **outer join** to create a NULL whenever the pilot's skills correspond to an unavailable plane."
   ]
  },
  {
   "cell_type": "code",
   "execution_count": 5,
   "metadata": {
    "collapsed": false,
    "deletable": true,
    "editable": true
   },
   "outputs": [
    {
     "name": "stdout",
     "output_type": "stream",
     "text": [
      "Done.\n"
     ]
    },
    {
     "data": {
      "text/html": [
       "<table>\n",
       "    <tr>\n",
       "        <th>pilot_name</th>\n",
       "        <th>count()</th>\n",
       "    </tr>\n",
       "    <tr>\n",
       "        <td>Celko</td>\n",
       "        <td>1</td>\n",
       "    </tr>\n",
       "    <tr>\n",
       "        <td>Higgins</td>\n",
       "        <td>3</td>\n",
       "    </tr>\n",
       "    <tr>\n",
       "        <td>Jones</td>\n",
       "        <td>2</td>\n",
       "    </tr>\n",
       "    <tr>\n",
       "        <td>Smith</td>\n",
       "        <td>3</td>\n",
       "    </tr>\n",
       "    <tr>\n",
       "        <td>Wilson</td>\n",
       "        <td>4</td>\n",
       "    </tr>\n",
       "</table>"
      ],
      "text/plain": [
       "[(u'Celko', 1), (u'Higgins', 3), (u'Jones', 2), (u'Smith', 3), (u'Wilson', 4)]"
      ]
     },
     "execution_count": 5,
     "metadata": {},
     "output_type": "execute_result"
    }
   ],
   "source": [
    "%%sql\n",
    "SELECT PS.pilot_name\n",
    "FROM PilotSkills AS PS\n",
    "LEFT OUTER JOIN Hangar AS H ON PS.plane_name = H.plane_name\n",
    "GROUP BY PS.pilot_name\n",
    "HAVING COUNT(PS.plane_name) = (SELECT COUNT(plane_name) FROM Hangar) AND\n",
    "       COUNT(H.plane_name) = (SELECT COUNT(plane_name) FROM Hangar);"
   ]
  },
  {
   "cell_type": "markdown",
   "metadata": {
    "deletable": true,
    "editable": true
   },
   "source": [
    "## Problem 3 (20 points)\n",
    "\n",
    "We have three tables with the following schemas:\n",
    "* OuterTable(entity_id, base_id, ...)\n",
    "* InnerTable(base_id, perf_id, ...)\n",
    "* HugeTable(entity_id, perf_id, ...)\n",
    "\n",
    "The ellipses indicate that there may be other fields irrelevant to the problem.\n",
    "\n",
    "You are given the following cursor-based code.  (This won't run in SQLite because we haven't defined the tables, and SQLite only supports cursors in the application language.)"
   ]
  },
  {
   "cell_type": "code",
   "execution_count": 6,
   "metadata": {
    "collapsed": false,
    "deletable": true,
    "editable": true
   },
   "outputs": [
    {
     "name": "stdout",
     "output_type": "stream",
     "text": [
      "(sqlite3.OperationalError) near \"DECLARE\": syntax error [SQL: u'DECLARE @EntityId INT;']\n"
     ]
    }
   ],
   "source": [
    "%%sql\n",
    "DECLARE @EntityId INT;\n",
    "DECLARE @PerfId INT;\n",
    "DECLARE @BaseId INT;\n",
    "DECLARE @UpdateStatus INT;\n",
    "\n",
    "DECLARE outer_cursor CURSOR FOR\n",
    "SELECT entity_id, base_id\n",
    "FROM OuterTable;\n",
    "\n",
    "OPEN outerCursor\n",
    "FETCH NEXT FROM outer_cursor INTO @EntityId, @BaseId;\n",
    "\n",
    "WHILE @@FETCH_STATUS = 0\n",
    "BEGIN\n",
    "    DECLARE inner_cursor CURSOR FOR\n",
    "    SELECT perf_id\n",
    "    FROM InnerTable\n",
    "    WHERE base_id = @BaseId;\n",
    "\n",
    "    OPEN innerCursor;\n",
    "    FETCH NEXT FROM inner_cursor INTO @PerfId;\n",
    "    SET @UpdateStatus = @@FETCH_STATUS;\n",
    "    WHILE @UpdateStatus = 0\n",
    "    BEGIN\n",
    "        UPDATE HugeTable\n",
    "        SET entity_id = @EntityId\n",
    "        WHERE perf_id = @PerfId;\n",
    "\n",
    "        FETCH NEXT FROM inner_cursor INTO @PerfId;\n",
    "        SET @UpdateStatus = @@FETCH_STATUS\n",
    "    END       \n",
    "    CLOSE innerCursor;\n",
    "    DEALLOCATE innerCursor;\n",
    "\n",
    "    FETCH NEXT FROM outerCursor INTO @EntityId, @BaseId;\n",
    "END\n",
    "\n",
    "CLOSE outerCursor;\n",
    "DEALLOCATE outerCursor;"
   ]
  },
  {
   "cell_type": "markdown",
   "metadata": {
    "deletable": true,
    "editable": true
   },
   "source": [
    "The previous code must have been written by a SQL newbie.  It is overly long and slow because it unnecessarily uses cursors.\n",
    "\n",
    "Write equivalent SQL code that doesn't use cursors.  (Again, you won't be able to test it here, since we haven't defined the tables and data.)"
   ]
  },
  {
   "cell_type": "code",
   "execution_count": 7,
   "metadata": {
    "collapsed": false,
    "deletable": true,
    "editable": true
   },
   "outputs": [
    {
     "name": "stdout",
     "output_type": "stream",
     "text": [
      "Done.\n",
      "Done.\n",
      "Done.\n",
      "Done.\n",
      "Done.\n",
      "Done.\n",
      "1 rows affected.\n",
      "1 rows affected.\n",
      "1 rows affected.\n",
      "1 rows affected.\n",
      "1 rows affected.\n",
      "1 rows affected.\n",
      "1 rows affected.\n",
      "1 rows affected.\n",
      "1 rows affected.\n",
      "1 rows affected.\n",
      "Done.\n"
     ]
    },
    {
     "data": {
      "text/html": [
       "<table>\n",
       "    <tr>\n",
       "        <th>entity_id</th>\n",
       "        <th>perf_id</th>\n",
       "    </tr>\n",
       "    <tr>\n",
       "        <td>1</td>\n",
       "        <td>101</td>\n",
       "    </tr>\n",
       "    <tr>\n",
       "        <td>2</td>\n",
       "        <td>101</td>\n",
       "    </tr>\n",
       "    <tr>\n",
       "        <td>3</td>\n",
       "        <td>303</td>\n",
       "    </tr>\n",
       "    <tr>\n",
       "        <td>4</td>\n",
       "        <td>404</td>\n",
       "    </tr>\n",
       "</table>"
      ],
      "text/plain": [
       "[(1, 101), (2, 101), (3, 303), (4, 404)]"
      ]
     },
     "execution_count": 7,
     "metadata": {},
     "output_type": "execute_result"
    }
   ],
   "source": [
    "%%sql\n",
    "\n",
    "--Here is some test data.\n",
    "DROP TABLE IF EXISTS OuterTable;\n",
    "DROP TABLE IF EXISTS InnerTable;\n",
    "DROP TABLE IF EXISTS HugeTable;\n",
    "\n",
    "CREATE TABLE OuterTable (entity_id INT, base_id INT);\n",
    "CREATE TABLE InnerTable (base_id INT, perf_id INT);\n",
    "CREATE TABLE HugeTable  (entity_id INT, perf_id INT);\n",
    "\n",
    "INSERT INTO OuterTable VALUES (1001, 11);\n",
    "INSERT INTO OuterTable VALUES (2002, 22);\n",
    "INSERT INTO OuterTable VALUES (4004, 44);\n",
    "\n",
    "INSERT INTO InnerTable VALUES (11, 101);\n",
    "INSERT INTO InnerTable VALUES (22, 102);\n",
    "INSERT INTO InnerTable VALUES (33, 303);\n",
    "\n",
    "INSERT INTO HugeTable VALUES (1, 101);\n",
    "INSERT INTO HugeTable VALUES (2, 101);\n",
    "INSERT INTO HugeTable VALUES (3, 303);\n",
    "INSERT INTO HugeTable VALUES (4, 404);\n",
    "\n",
    "SELECT * FROM HugeTable;"
   ]
  },
  {
   "cell_type": "code",
   "execution_count": 8,
   "metadata": {
    "collapsed": false,
    "deletable": true,
    "editable": true
   },
   "outputs": [
    {
     "name": "stdout",
     "output_type": "stream",
     "text": [
      "Done.\n",
      "Done.\n",
      "2 rows affected.\n",
      "Done.\n"
     ]
    },
    {
     "data": {
      "text/html": [
       "<table>\n",
       "    <tr>\n",
       "        <th>entity_id</th>\n",
       "        <th>perf_id</th>\n",
       "    </tr>\n",
       "    <tr>\n",
       "        <td>1001</td>\n",
       "        <td>101</td>\n",
       "    </tr>\n",
       "    <tr>\n",
       "        <td>1001</td>\n",
       "        <td>101</td>\n",
       "    </tr>\n",
       "    <tr>\n",
       "        <td>3</td>\n",
       "        <td>303</td>\n",
       "    </tr>\n",
       "    <tr>\n",
       "        <td>4</td>\n",
       "        <td>404</td>\n",
       "    </tr>\n",
       "</table>"
      ],
      "text/plain": [
       "[(1001, 101), (1001, 101), (3, 303), (4, 404)]"
      ]
     },
     "execution_count": 8,
     "metadata": {},
     "output_type": "execute_result"
    }
   ],
   "source": [
    "%%sql\n",
    "\n",
    "--Adapted from:\n",
    "--https://blogs.msdn.microsoft.com/sqlprogrammability/2008/03/18/increase-your-sql-server-performance-by-replacing-cursors-with-set-operations/\n",
    "\n",
    "--The answer\n",
    "DROP VIEW IF EXISTS Changes;\n",
    "\n",
    "CREATE VIEW Changes AS\n",
    "SELECT i.perf_id, o.entity_id\n",
    "FROM InnerTable i\n",
    "INNER JOIN OuterTable o on i.base_id = o.base_id;\n",
    "\n",
    "UPDATE HugeTable\n",
    "SET entity_id = (SELECT Changes.entity_id\n",
    "                 FROM Changes\n",
    "                 WHERE HugeTable.perf_id = Changes.perf_id)\n",
    "WHERE EXISTS (SELECT Changes.entity_id\n",
    "              FROM Changes\n",
    "              WHERE HugeTable.perf_id = Changes.perf_id);\n",
    "\n",
    "--A version using the simpler UPDATE FROM:\n",
    "--UPDATE HugeTable\n",
    "--SET h.entity_id = c.entity_id\n",
    "--FROM HugeTable h\n",
    "--INNER JOIN Changes c on h.perf_id = c.perf_id;\n",
    "\n",
    "\n",
    "--Test:\n",
    "SELECT * FROM HugeTable;"
   ]
  },
  {
   "cell_type": "code",
   "execution_count": null,
   "metadata": {
    "collapsed": true,
    "deletable": true,
    "editable": true
   },
   "outputs": [],
   "source": []
  }
 ],
 "metadata": {
  "anaconda-cloud": {},
  "kernelspec": {
   "display_name": "Python [conda root]",
   "language": "python",
   "name": "conda-root-py"
  },
  "language_info": {
   "codemirror_mode": {
    "name": "ipython",
    "version": 2
   },
   "file_extension": ".py",
   "mimetype": "text/x-python",
   "name": "python",
   "nbconvert_exporter": "python",
   "pygments_lexer": "ipython2",
   "version": "2.7.12"
  }
 },
 "nbformat": 4,
 "nbformat_minor": 0
}
